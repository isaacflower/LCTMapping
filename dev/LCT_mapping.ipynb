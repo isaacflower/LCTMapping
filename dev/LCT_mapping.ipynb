{
 "cells": [
  {
   "cell_type": "markdown",
   "metadata": {},
   "source": [
    "# Imports"
   ]
  },
  {
   "cell_type": "code",
   "execution_count": 1,
   "metadata": {},
   "outputs": [],
   "source": [
    "import pandas as pd\n",
    "import numpy as np\n",
    "import geopandas as gpd\n",
    "import matplotlib.pyplot as plt"
   ]
  },
  {
   "cell_type": "markdown",
   "metadata": {},
   "source": [
    "# Load Spatial Data"
   ]
  },
  {
   "cell_type": "code",
   "execution_count": null,
   "metadata": {},
   "outputs": [],
   "source": [
    "def load_geo_data(ds_geo_filepath: str):\n",
    "    ds_geo = (\n",
    "        gpd.read_file(ds_geo_filepath)\n",
    "        .rename(columns={'NR':'Substation Number'})\n",
    "        .dissolve('Substation Number').reset_index()\n",
    "        .rename(columns={'Substation Name':'Name'})\n",
    "        .fillna(value={'Discount':'Unknown'}) # For the \"key_on\" part of the choropleth map\n",
    "        .to_crs('EPSG:4326')\n",
    "    )\n",
    "    return ds_geo"
   ]
  }
 ],
 "metadata": {
  "kernelspec": {
   "display_name": "probabilistic_ev_demand_modelling",
   "language": "python",
   "name": "python3"
  },
  "language_info": {
   "codemirror_mode": {
    "name": "ipython",
    "version": 3
   },
   "file_extension": ".py",
   "mimetype": "text/x-python",
   "name": "python",
   "nbconvert_exporter": "python",
   "pygments_lexer": "ipython3",
   "version": "3.11.9"
  }
 },
 "nbformat": 4,
 "nbformat_minor": 2
}
